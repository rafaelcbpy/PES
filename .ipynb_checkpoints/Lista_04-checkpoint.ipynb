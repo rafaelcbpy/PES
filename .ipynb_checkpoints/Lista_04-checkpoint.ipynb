{
 "cells": [
  {
   "cell_type": "markdown",
   "metadata": {},
   "source": [
    "#### (1) - (A)"
   ]
  },
  {
   "cell_type": "markdown",
   "metadata": {},
   "source": [
    "#### RESPOSTA:\n",
    "\n",
    "<p align=\"justify\">\n",
    "$$W_{opt} = {R_x}^{-1} . P_{xd}$$\n",
    "    \n",
    "$$P_{xd} = \\begin{vmatrix}\n",
    "    0.5 \\\\\n",
    "    0.25 \n",
    " \\end{vmatrix}$$\n",
    " \n",
    "$$R_{x} = \\begin{vmatrix}\n",
    "    1 & 0.5 \\\\\n",
    "    0.5 & 1 \\end{vmatrix}$$\n",
    "    \n",
    "Logo, pela aplicação da expressão $W_{opt} = {R_x}^{-1} . P_{xd}$ , chegamos ao seguinte resultado:\n",
    "\n",
    "$$w_{opt} = \\begin{vmatrix}\n",
    "    0.5 \\\\\n",
    "    0 \n",
    " \\end{vmatrix}$$\n",
    "</p>"
   ]
  },
  {
   "cell_type": "markdown",
   "metadata": {},
   "source": [
    "#### (B)\n",
    "\n",
    "#### RESPOSTA:\n",
    "\n",
    "<p align=\"justify\">$$w = w_{opt} = E{(e^2 (n))} |_{min} $$\n",
    "\n",
    "Logo, temos que:\n",
    "\n",
    "$$erro_{min} = {σ^2}_{d} - {P^T}_{xd} * {R_x}^{-1} * P_{xd}$$\n",
    "\n",
    "Considerando ${σ^2}_{d} = 1$, ficamos com a seguinte expressão:\n",
    "\n",
    "$$erro_{min} = 1 - {P^T}_{xd} * w_{opt} $$\n",
    "\n",
    "Por fim, \n",
    "\n",
    "$$erro_{min} = 1 - 0.25 = 0.75$$\n",
    " \n",
    "</p>"
   ]
  },
  {
   "cell_type": "markdown",
   "metadata": {},
   "source": [
    "#### (C)"
   ]
  },
  {
   "cell_type": "markdown",
   "metadata": {},
   "source": [
    "\n",
    "#### RESPOSTA:\n",
    "\n",
    "<p align=\"justify\">\n",
    " \n",
    "</p>"
   ]
  },
  {
   "cell_type": "markdown",
   "metadata": {},
   "source": [
    "##### (2)\n",
    "\n",
    "#### RESPOSTA:\n",
    "\n",
    "<p align=\"justify\">\n",
    " \n",
    "</p>"
   ]
  },
  {
   "cell_type": "code",
   "execution_count": null,
   "metadata": {},
   "outputs": [],
   "source": []
  },
  {
   "cell_type": "code",
   "execution_count": null,
   "metadata": {},
   "outputs": [],
   "source": []
  },
  {
   "cell_type": "code",
   "execution_count": null,
   "metadata": {},
   "outputs": [],
   "source": []
  },
  {
   "cell_type": "code",
   "execution_count": null,
   "metadata": {},
   "outputs": [],
   "source": []
  },
  {
   "cell_type": "code",
   "execution_count": null,
   "metadata": {},
   "outputs": [],
   "source": [
    "\n",
    "#### RESPOSTA:\n",
    "\n",
    "<p align=\"justify\">$$w = w_{opt} = E{(e^2 (n))} |_{min} $$\n",
    "\n",
    "Logo, temos que:\n",
    "\n",
    "$$erro_{min} = {σ^2}_{d} - {P^T}_{xd} * {R_x}^{-1} * P_{xd}$$\n",
    "\n",
    "Considerando ${σ^2}_{d} = 1$, ficamos com a seguinte expressão:\n",
    "\n",
    "$$erro_{min} = 1 - {P^T}_{xd} * w_{opt} $$\n",
    "\n",
    "Por fim, \n",
    "\n",
    "$$erro_{min} = 1 - 0.25 = 0.75$$\n",
    " \n",
    "</p>"
   ]
  }
 ],
 "metadata": {
  "kernelspec": {
   "display_name": "Python 3",
   "language": "python",
   "name": "python3"
  },
  "language_info": {
   "codemirror_mode": {
    "name": "ipython",
    "version": 3
   },
   "file_extension": ".py",
   "mimetype": "text/x-python",
   "name": "python",
   "nbconvert_exporter": "python",
   "pygments_lexer": "ipython3",
   "version": "3.7.4"
  }
 },
 "nbformat": 4,
 "nbformat_minor": 2
}
