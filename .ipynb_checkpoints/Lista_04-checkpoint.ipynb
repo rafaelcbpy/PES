{
 "cells": [
  {
   "cell_type": "markdown",
   "metadata": {},
   "source": [
    "<center><h2>Estimação e Detecção</h2></center><br>\n",
    "<center><h6>Rafael Costa Brandão - 397829</h6></center>\n"
   ]
  },
  {
   "cell_type": "markdown",
   "metadata": {},
   "source": [
    "#### (1) - (A)"
   ]
  },
  {
   "cell_type": "markdown",
   "metadata": {},
   "source": [
    "#### RESPOSTA:\n",
    "\n",
    "<p align=\"justify\">\n",
    "$$W_{opt} = {R_x}^{-1} . P_{xd}$$\n",
    "    \n",
    "$$P_{xd} = \\begin{vmatrix}\n",
    "    0.5 \\\\\n",
    "    0.25 \n",
    " \\end{vmatrix}$$\n",
    " \n",
    "$$R_{x} = \\begin{vmatrix}\n",
    "    1 & 0.5 \\\\\n",
    "    0.5 & 1 \\end{vmatrix}$$\n",
    "    \n",
    "Logo, pela aplicação da expressão $W_{opt} = {R_x}^{-1} . P_{xd}$ , chegamos ao seguinte resultado:\n",
    "\n",
    "$$w_{opt} = \\begin{vmatrix}\n",
    "    0.5 \\\\\n",
    "    0 \n",
    " \\end{vmatrix}$$\n",
    "</p>"
   ]
  },
  {
   "cell_type": "markdown",
   "metadata": {},
   "source": [
    "#### (B)\n",
    "\n",
    "#### RESPOSTA:\n",
    "\n",
    "<p align=\"justify\">$$w = w_{opt} = E{(e^2 (n))} |_{min} $$\n",
    "\n",
    "Logo, temos que:\n",
    "\n",
    "$$erro_{min} = {σ^2}_{d} - {P^T}_{xd} * {R_x}^{-1} * P_{xd}$$\n",
    "\n",
    "Considerando ${σ^2}_{d} = 1$, ficamos com a seguinte expressão:\n",
    "\n",
    "$$erro_{min} = 1 - {P^T}_{xd} * w_{opt} $$\n",
    "\n",
    "Por fim, \n",
    "\n",
    "$$erro_{min} = 1 - 0.25 = 0.75$$\n",
    " \n",
    "</p>"
   ]
  },
  {
   "cell_type": "markdown",
   "metadata": {},
   "source": [
    "#### (C)"
   ]
  },
  {
   "cell_type": "markdown",
   "metadata": {},
   "source": [
    "\n",
    "#### RESPOSTA:\n",
    "\n",
    "<p align=\"justify\">\n",
    " \n",
    "</p>"
   ]
  },
  {
   "cell_type": "markdown",
   "metadata": {},
   "source": [
    "##### (2)\n",
    "\n",
    "#### RESPOSTA:\n",
    "\n",
    "<p align=\"justify\">Por notação de operador esperança, definiremos uma nova matriz de $A$ como a seguir:\n",
    "\n",
    "$$A = \\begin{vmatrix}\n",
    "    E \\{{d²(n)}\\} & E \\{{d²(n)}{x^T (n)}\\} \\\\\n",
    "    E \\{{d(n)}{x(n)}\\} & E \\{{x(n)}{x^T (n)}\\} \\end{vmatrix}$$\n",
    "<br>\n",
    "$$A = \\begin{vmatrix}\n",
    "    \\sigma^{2}_d & P^{T}_{dx} \\\\\n",
    "    P_{dx} & R_x \\end{vmatrix}$$\n",
    "    \n",
    "Portanto, operando o sistema abaixo:\n",
    "<br>\n",
    "\n",
    " $$ \\begin{vmatrix}\n",
    "    \\sigma^{2}_d & P^{T}_{dx} \\\\\n",
    "    P_{dx} & R_x \\end{vmatrix}\n",
    "    \\begin{vmatrix}\n",
    "    1  \\\\\n",
    "    -w\n",
    "    \\end{vmatrix}\n",
    "    = \\begin{vmatrix}\n",
    "    J_{min}  \\\\\n",
    "    0\n",
    "    \\end{vmatrix}$$\n",
    "\n",
    "Logo, chegamos nas duas condições $w$. Na qual satisfazem o erro mínimo e o filtro ótimo, respectivamente,\n",
    "<br>\n",
    "\n",
    "$$* \\sigma^{2}_d - P^{T}_{dx}w = J_{min} $$\n",
    "<br>\n",
    "$$* P_{dx} - R_x w = 0$$\n",
    "\n",
    "</p>"
   ]
  },
  {
   "cell_type": "markdown",
   "metadata": {},
   "source": [
    "##### (3)\n",
    "\n",
    "#### RESPOSTA:\n",
    "\n",
    "<p align=\"justify\">Por notação de operador esperança, \n",
    "<br>\n",
    "    \n",
    "$$Erro = E \\{{|e²(n)|}\\} = E \\{{[x(n)- v_1 (n)][x(n)- v^{*}_1 (n)]}\\} $$<br>\n",
    "\n",
    "$$Erro =  σ²_x - w^H P_{x*v_2} - P^{H}_{x*v_2} w + w^H R_{v_2} w$$<br>\n",
    "\n",
    "determinando o gradiente, ficamos com a referida expressão abaixo:<br>\n",
    "\n",
    "$$-P_{x*v_2} + R_{v_2} w = 0$$<br>\n",
    "\n",
    "O vetor de correlação cruzada é dado por,<br> \n",
    "\n",
    "$$P_{x*v_2} = P_{d*v_2}+P_{v^*{_1}v_2}$$<br>\n",
    "\n",
    "temos como solução:<br>\n",
    "\n",
    "$$w_{opt} = R^{-1}_{v_2} P_{v_1v_2}$$<br>\n",
    "\n",
    "</p>"
   ]
  },
  {
   "cell_type": "markdown",
   "metadata": {},
   "source": [
    "##### (4)\n",
    "\n",
    "#### RESPOSTA:\n",
    "\n",
    "<p align=\"justify\">\n",
    " \n",
    "</p>"
   ]
  },
  {
   "cell_type": "markdown",
   "metadata": {},
   "source": [
    "##### (5) -(A)\n",
    "\n",
    "#### RESPOSTA:\n",
    "\n",
    "<p align=\"justify\">Achamos a autocorrelação pela seguinte matriz<br>\n",
    "    \n",
    " $$ R_x =\\begin{vmatrix}\n",
    "    r_x (0) & r_x (1) \\\\\n",
    "    r_x (1) & r_x (0)\\end{vmatrix}\n",
    "    = \\begin{vmatrix}\n",
    "    0 & 1  \\\\\n",
    "    1 & 0\n",
    "    \\end{vmatrix}\n",
    "    = I$$\n",
    "<br>\n",
    "\n",
    "$$w_{opt} = R^{-1}_{x} P_{dx}$$<br>\n",
    "\n",
    "portanto, chegamos a \n",
    "\n",
    "$$w_{opt} = \\begin{vmatrix}\n",
    "            2  \\\\\n",
    "            4.5\n",
    "            \\end{vmatrix}$$\n",
    " \n",
    "</p>\n",
    "\n",
    "#### (B)"
   ]
  },
  {
   "cell_type": "code",
   "execution_count": 45,
   "metadata": {},
   "outputs": [],
   "source": [
    "import numpy as np\n",
    "import matplotlib.pyplot as plt\n",
    "from numpy import ma\n",
    "from matplotlib import ticker, cm"
   ]
  },
  {
   "cell_type": "code",
   "execution_count": 44,
   "metadata": {},
   "outputs": [
    {
     "data": {
      "image/png": "[encoded data removed]",
      "text/plain": [
       "<Figure size 432x288 with 1 Axes>"
      ]
     },
     "metadata": {
      "needs_background": "light"
     },
     "output_type": "display_data"
    }
   ],
   "source": [
    "N = 100\n",
    "\n",
    "x = np.linspace(-10, 5, 100)\n",
    "y = np.linspace(-10, 5, 100)\n",
    "\n",
    "X, Y = np.meshgrid(x, y)\n",
    "\n",
    "Z1 = np.exp(-(X)**2 - (Y)**2)\n",
    "Z2 = np.exp(-(X * 10)**2 - (Y * 10)**2)\n",
    "z = Z1 + 50 * Z2\n",
    "\n",
    "\n",
    "z[:5, :5] = -1\n",
    "\n",
    "z = ma.masked_where(z <= 0, z)\n",
    "\n",
    "\n",
    "fig, ax = plt.subplots()\n",
    "cs = ax.contourf(X, Y, z, locator=ticker.LogLocator())\n",
    "\n",
    "#cbar = fig.colorbar(cs)\n",
    "\n",
    "plt.show()"
   ]
  }
 ],
 "metadata": {
  "kernelspec": {
   "display_name": "Python 3",
   "language": "python",
   "name": "python3"
  },
  "language_info": {
   "codemirror_mode": {
    "name": "ipython",
    "version": 3
   },
   "file_extension": ".py",
   "mimetype": "text/x-python",
   "name": "python",
   "nbconvert_exporter": "python",
   "pygments_lexer": "ipython3",
   "version": "3.7.4"
  }
 },
 "nbformat": 4,
 "nbformat_minor": 2
}
