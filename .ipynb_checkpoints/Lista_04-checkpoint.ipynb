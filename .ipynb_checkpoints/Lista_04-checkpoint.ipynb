{
 "cells": [
  {
   "cell_type": "markdown",
   "metadata": {},
   "source": [
    "#### (1) - (A)"
   ]
  },
  {
   "cell_type": "markdown",
   "metadata": {},
   "source": [
    "#### RESPOSTA:\n",
    "\n",
    "<p align=\"justify\">\n",
    "$$W_{opt} = {R_x}^{-1} . P_{xd}$$\n",
    "    \n",
    "$$P_{xd} = \\begin{vmatrix}\n",
    "    0.5 \\\\\n",
    "    0.25 \n",
    " \\end{vmatrix}$$\n",
    " \n",
    "$$R_{x} = \\begin{vmatrix}\n",
    "    1 & 0.5 \\\\\n",
    "    0.5 & 1 \\end{vmatrix}$$\n",
    "    \n",
    "Logo, pela aplicação da expressão $W_{opt} = {R_x}^{-1} . P_{xd}$ , chegamos ao seguinte resultado:\n",
    "\n",
    "$$w_{opt} = \\begin{vmatrix}\n",
    "    0.5 \\\\\n",
    "    0 \n",
    " \\end{vmatrix}$$\n",
    "</p>"
   ]
  },
  {
   "cell_type": "markdown",
   "metadata": {},
   "source": [
    "#### (B)\n",
    "\n",
    "#### RESPOSTA:\n",
    "\n",
    "<p align=\"justify\">$$w = w_{opt} = E{(e^2 (n))} |_{min} $$\n",
    "\n",
    "Logo, temos que:\n",
    "\n",
    "$$erro_{min} = {σ^2}_{d} - {P^T}_{xd} * {R_x}^{-1} * P_{xd}$$\n",
    "\n",
    "Considerando ${σ^2}_{d} = 1$, ficamos com a seguinte expressão:\n",
    "\n",
    "$$erro_{min} = 1 - {P^T}_{xd} * w_{opt} $$\n",
    "\n",
    "Por fim, \n",
    "\n",
    "$$erro_{min} = 1 - 0.25 = 0.75$$\n",
    " \n",
    "</p>"
   ]
  },
  {
   "cell_type": "markdown",
   "metadata": {},
   "source": [
    "#### (C)"
   ]
  },
  {
   "cell_type": "markdown",
   "metadata": {},
   "source": [
    "\n",
    "#### RESPOSTA:\n",
    "\n",
    "<p align=\"justify\">\n",
    " \n",
    "</p>"
   ]
  },
  {
   "cell_type": "markdown",
   "metadata": {},
   "source": [
    "##### (2)\n",
    "\n",
    "#### RESPOSTA:\n",
    "\n",
    "<p align=\"justify\">Por notação de operador esperança, definiremos uma nova matriz de $A$ como a seguir:\n",
    "\n",
    "$$A = \\begin{vmatrix}\n",
    "    E \\{{d²(n)}\\} & E \\{{d²(n)}{x^T (n)}\\} \\\\\n",
    "    E \\{{d(n)}{x(n)}\\} & E \\{{x(n)}{x^T (n)}\\} \\end{vmatrix}$$\n",
    "<br>\n",
    "$$A = \\begin{vmatrix}\n",
    "    \\sigma^{2}_d & P^{T}_{dx} \\\\\n",
    "    P_{dx} & R_x \\end{vmatrix}$$\n",
    "    \n",
    "Portanto, operando o sistema abaixo:\n",
    "<br>\n",
    "\n",
    " $$ \\begin{vmatrix}\n",
    "    \\sigma^{2}_d & P^{T}_{dx} \\\\\n",
    "    P_{dx} & R_x \\end{vmatrix}\n",
    "    \\begin{vmatrix}\n",
    "    1  \\\\\n",
    "    -w\n",
    "    \\end{vmatrix}\n",
    "    = \\begin{vmatrix}\n",
    "    J_{min}  \\\\\n",
    "    0\n",
    "    \\end{vmatrix}$$\n",
    "\n",
    "Logo, chegamos nas duas condições $w$. Na qual satisfazem o erro mínimo e o filtro ótimo, respectivamente,\n",
    "<br>\n",
    "\n",
    "$$* \\sigma^{2}_d - P^{T}_{dx}w = J_{min} $$\n",
    "<br>\n",
    "$$* P_{dx} - R_x w = 0$$\n",
    "\n",
    "</p>\n",
    "\n",
    "\n"
   ]
  },
  {
   "cell_type": "code",
   "execution_count": null,
   "metadata": {},
   "outputs": [],
   "source": []
  },
  {
   "cell_type": "code",
   "execution_count": null,
   "metadata": {},
   "outputs": [],
   "source": []
  },
  {
   "cell_type": "code",
   "execution_count": null,
   "metadata": {},
   "outputs": [],
   "source": []
  },
  {
   "cell_type": "code",
   "execution_count": null,
   "metadata": {},
   "outputs": [],
   "source": []
  },
  {
   "cell_type": "markdown",
   "metadata": {},
   "source": [
    "\n",
    "#### RESPOSTA:\n",
    "\n",
    "<p align=\"justify\">$$w = w_{opt} = E{(e^2 (n))} |_{min} $$\n",
    "\n",
    "Logo, temos que:\n",
    "\n",
    "$$erro_{min} = {σ^2}_{d} - {P^T}_{xd} * {R_x}^{-1} * P_{xd}$$\n",
    "\n",
    "Considerando ${σ^2}_{d} = 1$, ficamos com a seguinte expressão:\n",
    "\n",
    "$$erro_{min} = 1 - {P^T}_{xd} * w_{opt} $$\n",
    "\n",
    "Por fim, \n",
    "\n",
    "$$erro_{min} = 1 - 0.25 = 0.75$$\n",
    " \n",
    "</p>"
   ]
  },
  {
   "cell_type": "markdown",
   "metadata": {},
   "source": [
    "##### (4)\n",
    "\n",
    "#### RESPOSTA:\n",
    "\n",
    "<p align=\"justify\">\n",
    " \n",
    "</p>"
   ]
  },
  {
   "cell_type": "markdown",
   "metadata": {},
   "source": [
    "##### (5)\n",
    "\n",
    "#### RESPOSTA:\n",
    "\n",
    "<p align=\"justify\">\n",
    " \n",
    "</p>"
   ]
  },
  {
   "cell_type": "code",
   "execution_count": null,
   "metadata": {},
   "outputs": [],
   "source": []
  }
 ],
 "metadata": {
  "kernelspec": {
   "display_name": "Python 3",
   "language": "python",
   "name": "python3"
  },
  "language_info": {
   "codemirror_mode": {
    "name": "ipython",
    "version": 3
   },
   "file_extension": ".py",
   "mimetype": "text/x-python",
   "name": "python",
   "nbconvert_exporter": "python",
   "pygments_lexer": "ipython3",
   "version": "3.7.4"
  }
 },
 "nbformat": 4,
 "nbformat_minor": 2
}
