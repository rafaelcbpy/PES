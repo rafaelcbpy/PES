{
 "cells": [
  {
   "cell_type": "code",
   "execution_count": 3,
   "metadata": {},
   "outputs": [],
   "source": [
    "import scipy.integrate as integrate\n",
    "from scipy.integrate import quad\n",
    "import numpy as np\n",
    "import scipy.special as special\n",
    "from scipy.integrate import quad, dblquad\n",
    "import matplotlib.pyplot as plt\n",
    "import scipy, numpy, math "
   ]
  },
  {
   "cell_type": "markdown",
   "metadata": {},
   "source": [
    "#### (1) - (A)"
   ]
  },
  {
   "cell_type": "markdown",
   "metadata": {},
   "source": [
    "#### RESPOSTA:\n",
    "\n",
    "<p align=\"justify\">A probabilidade é dada pela área sob a curva da função no intervalo qualquer. Desta forma as soluções seriam dada pelo uso da seguinte integral $\\int_{-∞}^{∞}w dw $, onde o $w$ seria justamente a função dada pelo sistema que se deseja averiguar.\n",
    "    \n",
    "Sabendo que:\n",
    "\n",
    "<center> $\\ Pr(X > Y) = \\int_{0}^{∞} \\int_{0}^{x}(\\lambda \\exp (-\\lambda x))(\\exp (-\\lambda) \\frac{\\lambda^y}{y!}) dydx $ <center><br>\n",
    "\n",
    "Todavia, o método acima pode ser simplicado. Iremos estipular um espaço amostral, na qual x = [0, 1, 2, 3, 4] e y = [0, 1, 2, 3, 4], definindo $\\lambda = 2$, obtemos até então a distribuição desse resultados aplicando cada intervalo específicado por x e y nas respectivas funções dadas por $p_x (x)$ e $p_y (y)$. Contudo, vejamos o gráfico a seguir, afim de comprovar a relação Pr(X > Y).\n",
    "</p>"
   ]
  },
  {
   "cell_type": "code",
   "execution_count": 4,
   "metadata": {},
   "outputs": [
    {
     "data": {
      "image/png": "[encoded data removed]",
      "text/plain": [
       "<Figure size 432x288 with 1 Axes>"
      ]
     },
     "metadata": {
      "needs_background": "light"
     },
     "output_type": "display_data"
    }
   ],
   "source": [
    "x = [0, 1, 2, 3, 4]\n",
    "defx = [2, 0.2706, 0.0366, 0.0049, 0.00067]\n",
    "y = [0, 1, 2, 3, 4]\n",
    "defy = [0.1353, 0.2706, 0.2706, 0.1804, 0.0902]\n",
    "\n",
    "\n",
    "plt.figure(1)\n",
    "plt.plot(x, defx, label='Px(X)')\n",
    "plt.plot(y, defy, label='Py(Y)')\n",
    "plt.fill_between(x, defx, where = defx >= defy, facecolor='blue', label='Pr(X>Y)')\n",
    "plt.fill_between(y, defy, where = defx > defy, facecolor='green')\n",
    "plt.legend()\n",
    "plt.grid()\n",
    "plt.show()"
   ]
  },
  {
   "cell_type": "markdown",
   "metadata": {},
   "source": [
    "#### (B)"
   ]
  },
  {
   "cell_type": "markdown",
   "metadata": {},
   "source": [
    "#### RESPOSTA:\n",
    "\n",
    "<p align=\"justify\">Dado a seguinte condição de parada, donde segue que o número de João é maior que o de Marcos eles jogam novamente, caso contrario o jogo finaliza. Com base na representatividade logo acima, é notório averiguar que a condição de parada se estabele quando o $p_y (y)$ > $p_x (x)$, logo é esperado que o jogo acabe após a primeira rodada.\n",
    "</p>"
   ]
  },
  {
   "cell_type": "markdown",
   "metadata": {},
   "source": [
    "#### (2) -(A)"
   ]
  },
  {
   "cell_type": "markdown",
   "metadata": {},
   "source": [
    "#### RESPOSTA:\n",
    "\n",
    "$$ p_X,_Y (x, y) =Cexp(−x²−y²+xy). $$\n",
    "\n",
    "<p align=\"justify\">$$\\int_{-∞}^{∞} \\int_{-∞}^{∞} p_X , _Y (x, y) dxdy = 1 $$\n",
    "<br>\n",
    "$$\\int_{-∞}^{∞} \\int_{-∞}^{∞} Cexp(−x²−y²+xy)dxdy = 1 $$\n",
    "<br>\n",
    "$$\\int_{-∞}^{∞} \\int_{-∞}^{∞} exp(−x²−y²+xy)dxdy = \\frac{1}{C} $$\n",
    "</p>"
   ]
  },
  {
   "cell_type": "markdown",
   "metadata": {},
   "source": [
    "#### (B)"
   ]
  },
  {
   "cell_type": "markdown",
   "metadata": {},
   "source": [
    "#### RESPOSTA:\n",
    "\n",
    "$$ p_X,_Y (x, y) = Cexp(−x²−y²+xy). $$\n",
    "\n",
    "<p align=\"justify\"> $$ p_X,_Y (x, y) = \\dfrac{\\partial^2 p_X,_Y (x, y)}{\\partial x \\partial y}$$\n",
    "<br>\n",
    "$$p_x(x) = \\int_{-∞}^{∞} p_X,_Y (x, y)dy, p_y(y) = \\int_{-∞}^{∞} p_X,_Y (x, y)dx$$\n",
    "<br>\n",
    "$$p_x (x) = \\dfrac{\\partial p_X(x)}{\\partial x}$$\n",
    "<br>\n",
    "  $$p_y (y) = \\dfrac{\\partial p_y(y)}{\\partial y}$$  \n",
    "</p>"
   ]
  },
  {
   "cell_type": "markdown",
   "metadata": {},
   "source": [
    "#### (C)"
   ]
  },
  {
   "cell_type": "markdown",
   "metadata": {},
   "source": [
    "#### RESPOSTA:\n",
    "\n",
    "$$ p_X,_Y (x, y) = Cexp(−x²−y²+xy). $$\n",
    "\n",
    "<p align=\"justify\">\n",
    "</p>"
   ]
  },
  {
   "cell_type": "markdown",
   "metadata": {},
   "source": [
    "#### (03)"
   ]
  },
  {
   "cell_type": "code",
   "execution_count": 5,
   "metadata": {
    "scrolled": false
   },
   "outputs": [
    {
     "data": {
      "image/png": "[encoded data removed]",
      "text/plain": [
       "<Figure size 432x288 with 1 Axes>"
      ]
     },
     "metadata": {
      "needs_background": "light"
     },
     "output_type": "display_data"
    }
   ],
   "source": [
    "x =np.arange(0, 50, 1)\n",
    "y =np.arange(5, 9, 1)\n",
    "x1 =np.arange(0, 25, 1)\n",
    "y1 =np.arange(5, 8, 1)\n",
    "\n",
    "px = ((2*x)/2500)\n",
    "py = ((3*(9-y)**2)/64)\n",
    "px1 = ((2*x1)/2500)\n",
    "py1 = ((3*(9-y1)**2)/64)\n",
    "\n",
    "plt.figure(2)\n",
    "plt.plot(x, px, 'go',label='Px(x)')\n",
    "plt.plot(y, py, label='Py(y)')\n",
    "plt.plot(x1, px1, label='Raio = 25Km')\n",
    "plt.plot(y1, py1, label='Pontos = 8')\n",
    "plt.legend()\n",
    "plt.grid()\n",
    "plt.show()"
   ]
  },
  {
   "cell_type": "markdown",
   "metadata": {},
   "source": [
    ". Determine a probabilidade do proximo possível terremotoe star localizado em um raio de 25 km e ter uma magnitude de pelo menos 8 pontos."
   ]
  },
  {
   "cell_type": "code",
   "execution_count": 6,
   "metadata": {},
   "outputs": [
    {
     "data": {
      "image/png": "[encoded data removed]",
      "text/plain": [
       "<Figure size 432x288 with 1 Axes>"
      ]
     },
     "metadata": {
      "needs_background": "light"
     },
     "output_type": "display_data"
    }
   ],
   "source": [
    "x =np.arange(0, 25, 0.001)\n",
    "y =np.arange(5, 8, 0.001)\n",
    "\n",
    "px = ((2*x)/2500)\n",
    "py = ((3*(9-y)**2)/64)\n",
    "\n",
    "plt.figure(3)\n",
    "plt.plot(x, px, label='Px(x)')\n",
    "plt.plot(y, py, label='Py(y)')\n",
    "plt.legend()\n",
    "plt.grid()\n",
    "plt.show()"
   ]
  },
  {
   "cell_type": "markdown",
   "metadata": {},
   "source": [
    "#### (4)"
   ]
  },
  {
   "cell_type": "code",
   "execution_count": null,
   "metadata": {},
   "outputs": [],
   "source": []
  }
 ],
 "metadata": {
  "kernelspec": {
   "display_name": "Python 3",
   "language": "python",
   "name": "python3"
  },
  "language_info": {
   "codemirror_mode": {
    "name": "ipython",
    "version": 3
   },
   "file_extension": ".py",
   "mimetype": "text/x-python",
   "name": "python",
   "nbconvert_exporter": "python",
   "pygments_lexer": "ipython3",
   "version": "3.7.4"
  }
 },
 "nbformat": 4,
 "nbformat_minor": 2
}
