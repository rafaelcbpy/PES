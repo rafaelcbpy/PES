{
 "cells": [
  {
   "cell_type": "markdown",
   "metadata": {},
   "source": [
    "#### (1)\n",
    "\n",
    "#### RESPOSTA:\n",
    "\n",
    "<p align=\"justify\">\n",
    "<center>Métodos dos Momentos</center><br>\n",
    "<center>$m_r = \\frac{1}{n} \\sum_{i=1}^{n} X_i $, ao r-ésimo momento populacional: $E(X^r)$</center><br>\n",
    "    \n",
    "Igualando o primeiro momento amostral, $\\overline{X} =  \\frac{1}{n} \\sum_{i=1}^{n} X_i$ a $E(X)$:\n",
    "\n",
    "$$E(X) = \\int_{0}^{∞} x f(x)dx $$\n",
    "\n",
    "\n",
    "$$\\hat{σ}_x = \\frac{1}{n} \\sum_{i=1}^{n} [X_i - \\hat{µ}]^2 $$\n",
    "\n",
    "Sabendo que: \n",
    "$$µ = E(X)$$ e $$σ^2 = E(X^2)- E(X)^2 $$\n",
    "\n",
    "Assumindo dois momentos quaisquer, dado pelas respectivas expressões:\n",
    "$$m_1= \\frac{1}{k} \\sum_{i=1}^{k} X_i = \\overline{X}$$\n",
    "\n",
    "$$ m_2 = \\frac{1}{k} \\sum_{i=1}^{k} {X_x}^2 $$\n",
    "\n",
    "Logo, temos que os referidos estimadores, são:\n",
    "$$µ_M = m_1 = \\overline{X}$$ e \n",
    "\n",
    "$$\\hat{σ}^2_{M} =  m_2 - {m^2}_{1} = \\frac{1}{k} \\sum_{i=1}^{k} {X_1}^2 - \\overline{X^2} = {σ}^2 $$\n",
    "\n",
    "\n",
    "</p>"
   ]
  },
  {
   "cell_type": "markdown",
   "metadata": {},
   "source": [
    "#### (2)\n",
    "\n",
    "#### RESPOSTA:\n",
    "\n",
    "<p align=\"justify\">Para estimarmos o vetor $\\theta$, iremos fazer o uso da equação conhecida como a pseudo-inversa. Vejamos a seguir:\n",
    "    \n",
    "$$\\hat{\\theta} = (H^T H)^-1 H^T x = Hx$$\n",
    "\n",
    "Logo, temos $H^T H$. Portanto, a forma matricial da nossa solução, se resume a expressão abaixo:\n",
    "\n",
    "\n",
    "  \\begin{bmatrix}\n",
    "    N & \\sum_{i=0}^{N-1} t(i)\\\\\n",
    "    \\sum_{i=0}^{N-1} t(i) & \\sum_{i=0}^{N-1} t²(i)\n",
    "  \\end{bmatrix}\n",
    "\n",
    "\n",
    "</p>"
   ]
  },
  {
   "cell_type": "markdown",
   "metadata": {},
   "source": [
    "#### (3)\n",
    "\n",
    "#### RESPOSTA:\n",
    "\n",
    "<p align=\"justify\">\n",
    "\n",
    "</p>"
   ]
  },
  {
   "cell_type": "markdown",
   "metadata": {},
   "source": [
    "#### (4)\n",
    "\n",
    "#### RESPOSTA:\n",
    "\n",
    "<p align=\"justify\">\n",
    "\n",
    "</p>"
   ]
  },
  {
   "cell_type": "markdown",
   "metadata": {},
   "source": [
    "#### (5)\n",
    "\n",
    "#### RESPOSTA:\n",
    "\n",
    "<p align=\"justify\">\n",
    "\n",
    "</p>"
   ]
  },
  {
   "cell_type": "markdown",
   "metadata": {},
   "source": [
    "#### (6)\n",
    "\n",
    "#### RESPOSTA:\n",
    "\n",
    "<p align=\"justify\">\n",
    "\n",
    "</p>"
   ]
  },
  {
   "cell_type": "markdown",
   "metadata": {},
   "source": [
    "#### (7)\n",
    "\n",
    "#### RESPOSTA:\n",
    "\n",
    "<p align=\"justify\">\n",
    "\n",
    "</p>"
   ]
  },
  {
   "cell_type": "markdown",
   "metadata": {},
   "source": [
    "#### (8)\n",
    "\n",
    "#### RESPOSTA:\n",
    "\n",
    "<p align=\"justify\">\n",
    "\n",
    "</p>"
   ]
  }
 ],
 "metadata": {
  "kernelspec": {
   "display_name": "Python 3",
   "language": "python",
   "name": "python3"
  },
  "language_info": {
   "codemirror_mode": {
    "name": "ipython",
    "version": 3
   },
   "file_extension": ".py",
   "mimetype": "text/x-python",
   "name": "python",
   "nbconvert_exporter": "python",
   "pygments_lexer": "ipython3",
   "version": "3.7.4"
  }
 },
 "nbformat": 4,
 "nbformat_minor": 2
}
